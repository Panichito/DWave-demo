{
 "cells": [
  {
   "cell_type": "code",
   "execution_count": 31,
   "id": "a501cb3d",
   "metadata": {},
   "outputs": [],
   "source": [
    "from dwave.system import DWaveSampler, EmbeddingComposite, LeapHybridSampler\n",
    "from dimod import BinaryQuadraticModel\n",
    "import numpy as np"
   ]
  },
  {
   "cell_type": "code",
   "execution_count": 32,
   "id": "a537064c",
   "metadata": {},
   "outputs": [],
   "source": [
    "bqm=BinaryQuadraticModel('BINARY')"
   ]
  },
  {
   "cell_type": "markdown",
   "id": "f897123e",
   "metadata": {},
   "source": [
    "### Create N-Queen problem matrix $Q$"
   ]
  },
  {
   "cell_type": "code",
   "execution_count": 46,
   "id": "52e24124",
   "metadata": {},
   "outputs": [],
   "source": [
    "N=8"
   ]
  },
  {
   "cell_type": "code",
   "execution_count": 47,
   "id": "9bf6c2cd",
   "metadata": {},
   "outputs": [
    {
     "name": "stdout",
     "output_type": "stream",
     "text": [
      "[[-2  1  1 ...  0  0  1]\n",
      " [ 1 -2  1 ...  0  0  0]\n",
      " [ 1  1 -2 ...  0  0  0]\n",
      " ...\n",
      " [ 0  0  0 ... -2  1  1]\n",
      " [ 0  0  0 ...  1 -2  1]\n",
      " [ 1  0  0 ...  1  1 -2]]\n",
      "16\n"
     ]
    }
   ],
   "source": [
    "class QuboPoly():\n",
    "    def __init__(self, n=1024):\n",
    "        self.array=np.zeros((n, n), dtype=int)\n",
    "        self.constant=0\n",
    "        self._size=n\n",
    "    \n",
    "    def add_term(self, i, j, c):\n",
    "        if i>=self._size or j>=self._size:\n",
    "            raise RuntimeError(\"Wrong index\")\n",
    "        self.array[i][j]+=c\n",
    "        \n",
    "    def add_constant(self, c):\n",
    "        self.constant+=c\n",
    "        \n",
    "    def sum(self, p):\n",
    "        if self._size != p._size:\n",
    "            raise RuntimeError(\"Wrong polynomial size\")\n",
    "        self.array+=p.array\n",
    "        self.constant+=p.constant\n",
    "        \n",
    "    def power(self):\n",
    "        a=np.diag(self.array)\n",
    "        self.array=np.outer(a, a) + 2*self.constant*np.diag(a) # convert back to NxN\n",
    "        self.constant**=2\n",
    "        \n",
    "    def multiply(self, p):\n",
    "        a=np.diag(self.array)\n",
    "        b=np.diag(p.array)\n",
    "        self.array=np.outer(a, b) + self.constant*np.diag(b) + p.constant*np.diag(a)\n",
    "        self.constant*=p.constant\n",
    "        \n",
    "def build_column_penalty(N):\n",
    "    qubo=QuboPoly(N*N)\n",
    "    for col in range(N):\n",
    "        tmp=QuboPoly(N*N)\n",
    "        for i in grid[:, col]:\n",
    "            tmp.add_term(i, i, 1)\n",
    "        tmp.add_constant(-1)\n",
    "        tmp.power()\n",
    "        qubo.sum(tmp)\n",
    "    return qubo\n",
    "\n",
    "def build_row_penalty(N):\n",
    "    qubo=QuboPoly(N*N)\n",
    "    for row in range(N):\n",
    "        tmp=QuboPoly(N*N)\n",
    "        for i in grid[row]:\n",
    "            tmp.add_term(i, i, 1)\n",
    "        tmp.add_constant(-1)\n",
    "        tmp.power()\n",
    "        qubo.sum(tmp)\n",
    "    return qubo\n",
    "\n",
    "def build_diag_penalty(N):\n",
    "    qubo=QuboPoly(N*N)\n",
    "    for g in [grid, np.fliplr(grid)]:\n",
    "        for k in range(-N+2, N-1):\n",
    "            tmp1=QuboPoly(N*N)\n",
    "            tmp2=QuboPoly(N*N)\n",
    "            for dia in np.diag(g, k=k):\n",
    "                tmp1.add_term(dia, dia, 1)\n",
    "                tmp2.add_term(dia, dia, 1)\n",
    "            tmp1.add_constant(-1)\n",
    "            tmp1.multiply(tmp2)\n",
    "            qubo.sum(tmp1)\n",
    "    return qubo\n",
    "\n",
    "grid=np.arange(N*N).reshape(N, N)\n",
    "P1=build_column_penalty(N)\n",
    "P2=build_row_penalty(N)\n",
    "P3=build_diag_penalty(N)\n",
    "qubo_obj=QuboPoly(N*N)\n",
    "qubo_obj.sum(P1)\n",
    "qubo_obj.sum(P2)\n",
    "qubo_obj.sum(P3)\n",
    "print(qubo_obj.array)\n",
    "print(qubo_obj.constant)"
   ]
  },
  {
   "cell_type": "code",
   "execution_count": 48,
   "id": "a313288e",
   "metadata": {},
   "outputs": [],
   "source": [
    "def example():\n",
    "    qubo=np.array([[-5,2,4,0],\n",
    "                   [2,-3,1,0],\n",
    "                   [4,1,-8,5],\n",
    "                   [0,0,5,-6]])\n",
    "    return qubo"
   ]
  },
  {
   "cell_type": "code",
   "execution_count": 49,
   "id": "7101cbc3",
   "metadata": {},
   "outputs": [],
   "source": [
    "from collections import defaultdict\n",
    "Q=defaultdict(int)\n",
    "\n",
    "for i in range(qubo_obj._size):\n",
    "    for j in range(qubo_obj._size):\n",
    "        Q[(i, j)]=qubo_obj.array[i][j]\n",
    "\n",
    "#Q=example()"
   ]
  },
  {
   "cell_type": "code",
   "execution_count": 50,
   "id": "dfac7c37",
   "metadata": {},
   "outputs": [],
   "source": [
    "bqm=BinaryQuadraticModel.from_qubo(Q)"
   ]
  },
  {
   "cell_type": "markdown",
   "id": "4b38977a",
   "metadata": {},
   "source": [
    "### Using Leap’s Hybrid Solvers"
   ]
  },
  {
   "cell_type": "code",
   "execution_count": 51,
   "id": "7f55ef5f",
   "metadata": {},
   "outputs": [],
   "source": [
    "bqm_sampler=LeapHybridSampler()\n",
    "sampleset=bqm_sampler.sample(bqm, label='N-Queen', time_limit=5)"
   ]
  },
  {
   "cell_type": "code",
   "execution_count": 52,
   "id": "5d63ed91",
   "metadata": {},
   "outputs": [
    {
     "name": "stdout",
     "output_type": "stream",
     "text": [
      "{'qpu_access_time': 174762, 'charge_time': 4987223, 'run_time': 4987223, 'problem_id': 'e0bacbcc-6e16-4187-8eb8-1e322677d839', 'problem_label': 'N-Queen'}\n"
     ]
    }
   ],
   "source": [
    "print(sampleset.info)"
   ]
  },
  {
   "cell_type": "code",
   "execution_count": 53,
   "id": "debd4b2a",
   "metadata": {},
   "outputs": [
    {
     "name": "stdout",
     "output_type": "stream",
     "text": [
      "Best Sample: {0: 0, 1: 1, 2: 0, 3: 0, 4: 0, 5: 0, 6: 0, 7: 0, 8: 0, 9: 0, 10: 0, 11: 0, 12: 0, 13: 0, 14: 0, 15: 1, 16: 0, 17: 0, 18: 0, 19: 0, 20: 0, 21: 1, 22: 0, 23: 0, 24: 1, 25: 0, 26: 0, 27: 0, 28: 0, 29: 0, 30: 0, 31: 0, 32: 0, 33: 0, 34: 1, 35: 0, 36: 0, 37: 0, 38: 0, 39: 0, 40: 0, 41: 0, 42: 0, 43: 0, 44: 1, 45: 0, 46: 0, 47: 0, 48: 0, 49: 0, 50: 0, 51: 0, 52: 0, 53: 0, 54: 1, 55: 0, 56: 0, 57: 0, 58: 0, 59: 1, 60: 0, 61: 0, 62: 0, 63: 0}\n",
      "Best Energy: -16.0\n",
      "[[0 1 0 0 0 0 0 0]\n",
      " [0 0 0 0 0 0 0 1]\n",
      " [0 0 0 0 0 1 0 0]\n",
      " [1 0 0 0 0 0 0 0]\n",
      " [0 0 1 0 0 0 0 0]\n",
      " [0 0 0 0 1 0 0 0]\n",
      " [0 0 0 0 0 0 1 0]\n",
      " [0 0 0 1 0 0 0 0]]\n"
     ]
    }
   ],
   "source": [
    "best_sample=sampleset.first.sample\n",
    "best_energy=sampleset.first.energy\n",
    "\n",
    "print(\"Best Sample:\", best_sample)\n",
    "print(\"Best Energy:\", best_energy)\n",
    "\n",
    "# map it back to answer\n",
    "solution=np.zeros(N*N, dtype=int)\n",
    "for index, var in enumerate(best_sample):\n",
    "    solution[index]=int(best_sample[var])\n",
    "    \n",
    "board_sol=solution.reshape(N, N)\n",
    "print(board_sol)"
   ]
  },
  {
   "cell_type": "markdown",
   "id": "d19d7957",
   "metadata": {},
   "source": [
    "### Use D-Wave's 2000Q solver"
   ]
  },
  {
   "cell_type": "code",
   "execution_count": 104,
   "id": "11266584",
   "metadata": {},
   "outputs": [
    {
     "name": "stdout",
     "output_type": "stream",
     "text": [
      "Run time 67.65822556500007 seconds\n"
     ]
    }
   ],
   "source": [
    "from time import monotonic\n",
    "start_time=monotonic()  # timer\n",
    "\n",
    "sampler=EmbeddingComposite(DWaveSampler())\n",
    "sampleset=sampler.sample(bqm, num_reads=5)\n",
    "\n",
    "print(f\"Run time {monotonic() - start_time} seconds\")"
   ]
  },
  {
   "cell_type": "code",
   "execution_count": 105,
   "id": "9871d9e5",
   "metadata": {},
   "outputs": [
    {
     "name": "stdout",
     "output_type": "stream",
     "text": [
      "Sample: {0: 1, 1: 0, 2: 0, 3: 0, 4: 0, 5: 1, 6: 0, 7: 0, 8: 0, 9: 1, 10: 0, 11: 1, 12: 0, 13: 0, 14: 0, 15: 0, 16: 0, 17: 0, 18: 0, 19: 0, 20: 0, 21: 0, 22: 0, 23: 0, 24: 0, 25: 0, 26: 0, 27: 0, 28: 0, 29: 0, 30: 0, 31: 0, 32: 0, 33: 0, 34: 0, 35: 0, 36: 0, 37: 0, 38: 0, 39: 1, 40: 0, 41: 0, 42: 1, 43: 0, 44: 0, 45: 0, 46: 0, 47: 0, 48: 0, 49: 0, 50: 0, 51: 0, 52: 1, 53: 0, 54: 0, 55: 0, 56: 0, 57: 1, 58: 0, 59: 0, 60: 0, 61: 0, 62: 1, 63: 0} Energy: -8.0\n",
      "Sample: {0: 0, 1: 0, 2: 1, 3: 0, 4: 0, 5: 0, 6: 0, 7: 0, 8: 0, 9: 0, 10: 0, 11: 1, 12: 0, 13: 0, 14: 0, 15: 0, 16: 0, 17: 1, 18: 0, 19: 0, 20: 0, 21: 0, 22: 0, 23: 0, 24: 0, 25: 0, 26: 0, 27: 1, 28: 0, 29: 0, 30: 0, 31: 0, 32: 0, 33: 0, 34: 0, 35: 0, 36: 1, 37: 0, 38: 0, 39: 1, 40: 0, 41: 0, 42: 0, 43: 0, 44: 0, 45: 0, 46: 0, 47: 0, 48: 0, 49: 0, 50: 1, 51: 0, 52: 0, 53: 0, 54: 0, 55: 0, 56: 1, 57: 0, 58: 0, 59: 0, 60: 0, 61: 1, 62: 0, 63: 0} Energy: -4.0\n",
      "Sample: {0: 0, 1: 1, 2: 0, 3: 0, 4: 0, 5: 0, 6: 0, 7: 1, 8: 0, 9: 0, 10: 0, 11: 0, 12: 0, 13: 0, 14: 0, 15: 0, 16: 0, 17: 0, 18: 0, 19: 0, 20: 0, 21: 0, 22: 1, 23: 0, 24: 0, 25: 1, 26: 0, 27: 0, 28: 0, 29: 0, 30: 0, 31: 0, 32: 0, 33: 1, 34: 0, 35: 0, 36: 0, 37: 1, 38: 0, 39: 0, 40: 0, 41: 0, 42: 0, 43: 0, 44: 0, 45: 0, 46: 0, 47: 0, 48: 1, 49: 0, 50: 0, 51: 0, 52: 0, 53: 0, 54: 0, 55: 0, 56: 1, 57: 0, 58: 1, 59: 0, 60: 0, 61: 0, 62: 0, 63: 0} Energy: 2.0\n",
      "Sample: {0: 0, 1: 0, 2: 0, 3: 0, 4: 0, 5: 0, 6: 0, 7: 1, 8: 0, 9: 0, 10: 0, 11: 1, 12: 0, 13: 0, 14: 0, 15: 0, 16: 0, 17: 1, 18: 0, 19: 0, 20: 1, 21: 0, 22: 0, 23: 0, 24: 0, 25: 0, 26: 1, 27: 0, 28: 0, 29: 0, 30: 1, 31: 0, 32: 0, 33: 0, 34: 0, 35: 0, 36: 1, 37: 1, 38: 0, 39: 0, 40: 0, 41: 0, 42: 0, 43: 0, 44: 0, 45: 0, 46: 0, 47: 0, 48: 0, 49: 0, 50: 1, 51: 0, 52: 1, 53: 0, 54: 0, 55: 0, 56: 0, 57: 0, 58: 0, 59: 0, 60: 0, 61: 1, 62: 0, 63: 0} Energy: 6.0\n",
      "Sample: {0: 0, 1: 0, 2: 1, 3: 0, 4: 0, 5: 1, 6: 0, 7: 0, 8: 0, 9: 0, 10: 0, 11: 0, 12: 0, 13: 0, 14: 0, 15: 0, 16: 0, 17: 0, 18: 0, 19: 0, 20: 0, 21: 0, 22: 0, 23: 0, 24: 0, 25: 1, 26: 0, 27: 0, 28: 0, 29: 0, 30: 1, 31: 0, 32: 0, 33: 1, 34: 0, 35: 0, 36: 1, 37: 0, 38: 0, 39: 1, 40: 0, 41: 0, 42: 0, 43: 0, 44: 0, 45: 0, 46: 0, 47: 1, 48: 0, 49: 0, 50: 1, 51: 0, 52: 0, 53: 0, 54: 0, 55: 0, 56: 1, 57: 0, 58: 0, 59: 0, 60: 0, 61: 1, 62: 0, 63: 0} Energy: 10.0\n"
     ]
    }
   ],
   "source": [
    "for s, e in sampleset.data(['sample', 'energy']):\n",
    "    print(\"Sample:\", s, \"Energy:\", e)\n",
    "    \n",
    "    '''\n",
    "    solution=np.zeros(N*N, dtype=int)\n",
    "    for index, var in enumerate(s):\n",
    "        solution[index]=int(s[var])\n",
    "    board_sol=solution.reshape(N, N)\n",
    "    ob=Solution()\n",
    "    if ob.solve(board_sol)==True:\n",
    "        print(\"YES\")\n",
    "    '''\n",
    "    \n",
    "#print(\"Skip\")"
   ]
  },
  {
   "cell_type": "code",
   "execution_count": 106,
   "id": "fafd6610",
   "metadata": {},
   "outputs": [
    {
     "name": "stdout",
     "output_type": "stream",
     "text": [
      "Energy of First Sample: -8.0\n"
     ]
    }
   ],
   "source": [
    "first_sample=sampleset.first.sample\n",
    "first_energy=sampleset.first.energy\n",
    "\n",
    "#print(\"First Sample:\", first_sample)\n",
    "print(\"Energy of First Sample:\", first_energy)"
   ]
  },
  {
   "cell_type": "markdown",
   "id": "579535de",
   "metadata": {},
   "source": [
    "**Quantum annealing** is a stochastic process, and the samples generated represent possible solutions to the problem based on the quantum fluctuations and thermal noise inherent in the hardware."
   ]
  },
  {
   "cell_type": "code",
   "execution_count": 107,
   "id": "d07df4b9",
   "metadata": {},
   "outputs": [
    {
     "name": "stdout",
     "output_type": "stream",
     "text": [
      "Best Energy: -8.0\n"
     ]
    }
   ],
   "source": [
    "best_energy=float('inf')\n",
    "best_sample=None\n",
    "\n",
    "for s, e in sampleset.data(['sample', 'energy']):\n",
    "    if e < best_energy:\n",
    "        best_energy=e\n",
    "        best_sample=s\n",
    "\n",
    "#print(\"Best Sample:\", best_sample)\n",
    "print(\"Best Energy:\", best_energy)"
   ]
  },
  {
   "cell_type": "code",
   "execution_count": 108,
   "id": "366b3172",
   "metadata": {},
   "outputs": [
    {
     "name": "stdout",
     "output_type": "stream",
     "text": [
      "[[1 0 0 0 0 1 0 0]\n",
      " [0 1 0 1 0 0 0 0]\n",
      " [0 0 0 0 0 0 0 0]\n",
      " [0 0 0 0 0 0 0 0]\n",
      " [0 0 0 0 0 0 0 1]\n",
      " [0 0 1 0 0 0 0 0]\n",
      " [0 0 0 0 1 0 0 0]\n",
      " [0 1 0 0 0 0 1 0]]\n"
     ]
    }
   ],
   "source": [
    "# map it back to answer\n",
    "solution=np.zeros(N*N, dtype=int)\n",
    "for index, var in enumerate(best_sample):\n",
    "    solution[index]=int(best_sample[var])\n",
    "    \n",
    "board_sol=solution.reshape(N, N)\n",
    "print(board_sol)"
   ]
  },
  {
   "cell_type": "markdown",
   "id": "9e5ffb54",
   "metadata": {},
   "source": [
    "#### Validate Solution"
   ]
  },
  {
   "cell_type": "code",
   "execution_count": 109,
   "id": "16586596",
   "metadata": {},
   "outputs": [
    {
     "name": "stdout",
     "output_type": "stream",
     "text": [
      "Answer = False\n"
     ]
    }
   ],
   "source": [
    "class Solution:\n",
    "    def solve(self, matrix):\n",
    "        n=len(matrix)\n",
    "        rows=set()\n",
    "        cols=set()\n",
    "        diags=set()\n",
    "        rev_diags=set()\n",
    "\n",
    "        for i in range(n):\n",
    "            for j in range(n):\n",
    "                if matrix[i][j]:\n",
    "                    rows.add(i)\n",
    "                    cols.add(j)\n",
    "                    diags.add(i-j)\n",
    "                    rev_diags.add(i+j)\n",
    "\n",
    "        return len(rows)==len(cols)==len(diags)==len(rev_diags)==n\n",
    "\n",
    "ob=Solution()\n",
    "print(\"Answer =\", ob.solve(board_sol))"
   ]
  },
  {
   "cell_type": "code",
   "execution_count": null,
   "id": "b270b1dd",
   "metadata": {},
   "outputs": [],
   "source": []
  }
 ],
 "metadata": {
  "kernelspec": {
   "display_name": "Python 3 (ipykernel)",
   "language": "python",
   "name": "python3"
  },
  "language_info": {
   "codemirror_mode": {
    "name": "ipython",
    "version": 3
   },
   "file_extension": ".py",
   "mimetype": "text/x-python",
   "name": "python",
   "nbconvert_exporter": "python",
   "pygments_lexer": "ipython3",
   "version": "3.10.12"
  }
 },
 "nbformat": 4,
 "nbformat_minor": 5
}

{
 "cells": [
  {
   "cell_type": "code",
   "execution_count": 31,
   "id": "d16c3423",
   "metadata": {},
   "outputs": [],
   "source": [
    "from dwave.system import DWaveSampler, EmbeddingComposite\n",
    "from dimod import BinaryQuadraticModel"
   ]
  },
  {
   "cell_type": "code",
   "execution_count": 32,
   "id": "be8b9fb5",
   "metadata": {},
   "outputs": [],
   "source": [
    "bqm=BinaryQuadraticModel('BINARY')"
   ]
  },
  {
   "cell_type": "code",
   "execution_count": 33,
   "id": "9f359e31",
   "metadata": {},
   "outputs": [],
   "source": [
    "pumps=[0, 1, 2, 3]\n",
    "time=[0, 1]\n",
    "flow=[2, 7, 3, 8]\n",
    "costs=[[36, 27], [56, 65], [48, 36], [52, 16]]\n",
    "demand=20"
   ]
  },
  {
   "cell_type": "code",
   "execution_count": 34,
   "id": "01dcf7d4",
   "metadata": {},
   "outputs": [
    {
     "name": "stdout",
     "output_type": "stream",
     "text": [
      "[['P0_AM', 'P0_PM'], ['P1_AM', 'P1_PM'], ['P2_AM', 'P2_PM'], ['P3_AM', 'P3_PM']]\n"
     ]
    }
   ],
   "source": [
    "x=[[f'P{p}_AM', f'P{p}_PM'] for p in pumps]\n",
    "print(x)"
   ]
  },
  {
   "cell_type": "markdown",
   "id": "8a76144f",
   "metadata": {},
   "source": [
    "#### Objective $\\sum_{p}^{pump}\\sum_{t}^{time}cost_{p,t}\\cdot x_{p, t}$"
   ]
  },
  {
   "cell_type": "code",
   "execution_count": 35,
   "id": "f2747962",
   "metadata": {},
   "outputs": [],
   "source": [
    "for p in pumps:\n",
    "    for t in time:\n",
    "        bqm.add_variable(x[p][t], costs[p][t])"
   ]
  },
  {
   "cell_type": "markdown",
   "id": "cb8371c6",
   "metadata": {},
   "source": [
    "#### Constraint 1: Each pump runs at least once per day $\\sum_{t}^{time}x_{p, t}\\ge1$"
   ]
  },
  {
   "cell_type": "code",
   "execution_count": 36,
   "id": "4f1c5039",
   "metadata": {},
   "outputs": [],
   "source": [
    "for p in pumps:\n",
    "    c1=[(x[p][t], 1) for t in time]\n",
    "    bqm.add_linear_inequality_constraint(c1, lb=1, ub=len(time), lagrange_multiplier=5, label='c1_pump_'+str(p))"
   ]
  },
  {
   "cell_type": "markdown",
   "id": "93d13da5",
   "metadata": {},
   "source": [
    "#### Constraint 2: At most 3 pumps can run at a time $\\sum_{p}^{pump}x_{p, t}-3\\le0$"
   ]
  },
  {
   "cell_type": "code",
   "execution_count": 37,
   "id": "bdb5d85e",
   "metadata": {},
   "outputs": [],
   "source": [
    "for t in time:\n",
    "    c2=[(x[p][t], 1) for p in pumps]\n",
    "    bqm.add_linear_inequality_constraint(c2, constant=-3, lagrange_multiplier=1, label='c2_time_'+str(t))"
   ]
  },
  {
   "cell_type": "markdown",
   "id": "a602976c",
   "metadata": {},
   "source": [
    "#### Constraint 3: Total flow satisfies daily demand $(\\sum_{p}^{pump}\\sum_{t}^{time}flow_{p, t}\\cdot x_{p, t})-demand=0$"
   ]
  },
  {
   "cell_type": "code",
   "execution_count": 38,
   "id": "d2a76786",
   "metadata": {},
   "outputs": [],
   "source": [
    "c3=[(x[p][t], flow[p]) for t in time for p in pumps]\n",
    "bqm.add_linear_equality_constraint(c3, constant=-demand, lagrange_multiplier=28)"
   ]
  },
  {
   "cell_type": "code",
   "execution_count": 39,
   "id": "45b7e58b",
   "metadata": {},
   "outputs": [],
   "source": [
    "sampler=EmbeddingComposite(DWaveSampler())\n",
    "samplest=sampler.sample(bqm, num_reads=1000)"
   ]
  },
  {
   "cell_type": "code",
   "execution_count": 44,
   "id": "10fe671d",
   "metadata": {},
   "outputs": [],
   "source": [
    "sample=samplest.first.sample\n",
    "total_flow=0\n",
    "total_cost=0"
   ]
  },
  {
   "cell_type": "code",
   "execution_count": 46,
   "id": "ebfe2842",
   "metadata": {},
   "outputs": [
    {
     "name": "stdout",
     "output_type": "stream",
     "text": [
      "\n",
      "\tAM\tPM\n",
      "P0\t0\t1\n",
      "P1\t1\t0\n",
      "P2\t0\t1\n",
      "P3\t0\t1\n",
      "Total flow: 20\n",
      "Total cost: 135\n"
     ]
    }
   ],
   "source": [
    "print(\"\\n\\tAM\\tPM\")\n",
    "for p in pumps:\n",
    "    printout=\"P\"+str(p)\n",
    "    for t in time:\n",
    "        printout+=\"\\t\"+str(sample[x[p][t]])\n",
    "        total_flow+=sample[x[p][t]]*flow[p]\n",
    "        total_cost+=sample[x[p][t]]*cost[p][t]\n",
    "    print(printout)\n",
    "\n",
    "print(\"Total flow:\", total_flow)\n",
    "print(\"Total cost:\", total_cost)"
   ]
  }
 ],
 "metadata": {
  "kernelspec": {
   "display_name": "Python 3 (ipykernel)",
   "language": "python",
   "name": "python3"
  },
  "language_info": {
   "codemirror_mode": {
    "name": "ipython",
    "version": 3
   },
   "file_extension": ".py",
   "mimetype": "text/x-python",
   "name": "python",
   "nbconvert_exporter": "python",
   "pygments_lexer": "ipython3",
   "version": "3.10.12"
  }
 },
 "nbformat": 4,
 "nbformat_minor": 5
}

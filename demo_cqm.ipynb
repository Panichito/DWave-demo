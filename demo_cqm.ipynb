{
 "cells": [
  {
   "cell_type": "markdown",
   "id": "86486908",
   "metadata": {},
   "source": [
    "## Delivery Truck Packing Problem \n",
    "In North America there are over 100 standard box sizes that consumer goods are shipped in.\n",
    "\n",
    "Optimally loading delivery trucks with packages, expecially when additional considerations such as priority shipping status, order date and weight/size limits of the trucks are considered is a difficult combinatorial optimization problem.\n",
    "\n",
    "### Objectives:\n",
    "1. Maximize the number of packages selected with priority shipping\n",
    "2. Minimize the number of days the packages are in transit\n",
    "\n",
    "### Constraints:\n",
    "1. Do not exceed the maximum number of packages that can fit on the truck (100)\n",
    "2. Do not exceed the maximmum weight capacity of the truck (3000 lbs)"
   ]
  },
  {
   "cell_type": "code",
   "execution_count": 240,
   "id": "341a59e0",
   "metadata": {},
   "outputs": [],
   "source": [
    "from dwave.system import LeapHybridCQMSampler\n",
    "from dimod import ConstrainedQuadraticModel, Binary, quicksum\n",
    "import random\n",
    "import numpy as np"
   ]
  },
  {
   "cell_type": "code",
   "execution_count": 241,
   "id": "e2d7903b",
   "metadata": {},
   "outputs": [
    {
     "name": "stdout",
     "output_type": "stream",
     "text": [
      "[73, 13, 91, 28, 56, 50, 50, 24, 58, 38, 75, 87, 80, 38, 4, 75, 29, 49, 100, 89, 12, 82, 45, 52, 19, 19, 9, 37, 52, 33, 31, 83, 39, 11, 69, 10, 56, 30, 98, 7, 24, 30, 34, 83, 87, 30, 27, 25, 91, 24, 21, 33, 44, 18, 10, 42, 21, 53, 82, 69, 2, 14, 83, 11, 87, 21, 90, 10, 50, 89, 23, 43, 33, 72, 42, 49, 90, 61, 57, 85, 1, 78, 88, 30, 6, 93, 94, 82, 66, 18, 65, 55, 49, 33, 23, 74, 96, 73, 21, 22, 92, 51, 3, 67, 97, 93, 71, 26, 1, 88, 63, 36, 18, 99, 25, 46, 95, 49, 55, 78, 97, 62, 70, 4, 61, 74, 19, 3, 11, 74, 46, 79, 39, 46, 29, 60, 21, 68, 75, 96, 9, 22, 46, 88, 33, 10, 83, 61, 71, 48, 80, 43, 79, 34, 42, 91, 54, 9, 56, 47, 8, 24, 79, 98, 96, 4, 40, 67, 81, 33, 98, 30, 57, 9, 100, 1, 35, 11, 30, 23, 33, 52, 48, 21, 87, 75, 19, 1, 69, 42, 82, 72, 81, 78, 12, 76, 86, 8, 50, 29, 59, 54, 64, 62, 95, 68, 25, 90, 94, 66, 40, 19, 21, 63, 27, 18, 19, 38, 89, 10, 96, 38, 43, 80, 29, 75, 23, 90, 10, 85, 93, 96, 37, 28, 70, 44, 38, 36, 18, 65, 9, 71, 20, 65, 21, 13, 88, 30, 4, 49, 95, 69, 37, 72, 10, 72, 66, 65, 29, 24, 59, 34, 25, 5, 68, 37, 78, 61, 74, 78, 14, 49, 47, 94, 8, 93, 20, 88, 13, 39, 29, 80, 65, 89, 37, 47, 45, 62, 68, 91, 25, 74, 39, 24, 57, 2, 67, 31, 93, 29]\n"
     ]
    }
   ],
   "source": [
    "random.seed(6969)\n",
    "num_items=300\n",
    "priority=[random.choice([1, 2, 3]) for i in range(num_items)]\n",
    "days_since_order=[random.choice([0, 1, 2, 3]) for i in range(num_items)]\n",
    "cost=[random.randint(1, 100) for i in range(num_items)]  # weight\n",
    "print(cost)"
   ]
  },
  {
   "cell_type": "code",
   "execution_count": 242,
   "id": "6abb3a47",
   "metadata": {},
   "outputs": [],
   "source": [
    "max_weight=3000\n",
    "max_parcels=100\n",
    "obj_weight_priority=1.0\n",
    "obj_weight_days=1"
   ]
  },
  {
   "cell_type": "code",
   "execution_count": 243,
   "id": "f507d2c3",
   "metadata": {},
   "outputs": [],
   "source": [
    "cqm=ConstrainedQuadraticModel()"
   ]
  },
  {
   "cell_type": "code",
   "execution_count": 244,
   "id": "fe5f424c",
   "metadata": {},
   "outputs": [],
   "source": [
    "x=[Binary(i) for i in range(num_items)]"
   ]
  },
  {
   "cell_type": "markdown",
   "id": "6c5ab445",
   "metadata": {},
   "source": [
    "#### Objective 1: Maximize priority shipping $ min(-\\sum_{i=0}^{N}p_i\\cdot x_i) $"
   ]
  },
  {
   "cell_type": "code",
   "execution_count": 245,
   "id": "7a59d13a",
   "metadata": {},
   "outputs": [],
   "source": [
    "obj1=-obj_weight_priority*quicksum(priority[i]*x[i] for i in range(num_items))"
   ]
  },
  {
   "cell_type": "markdown",
   "id": "4327169f",
   "metadata": {},
   "source": [
    "#### Objective 2: Minimize wait time $ min(-\\sum_{i=0}^{N}d_i\\cdot xi) $"
   ]
  },
  {
   "cell_type": "code",
   "execution_count": 246,
   "id": "af258b3c",
   "metadata": {},
   "outputs": [],
   "source": [
    "obj2=-obj_weight_days*quicksum(days_since_order[i]*x[i] for i in range(num_items))"
   ]
  },
  {
   "cell_type": "code",
   "execution_count": 247,
   "id": "bc390647",
   "metadata": {},
   "outputs": [],
   "source": [
    "cqm.set_objective(obj1+obj2)"
   ]
  },
  {
   "cell_type": "markdown",
   "id": "483de126",
   "metadata": {},
   "source": [
    "#### Constraint 1: Maximum parcels $ \\sum_{i=0}^{N}x_i=P $"
   ]
  },
  {
   "cell_type": "code",
   "execution_count": 248,
   "id": "8e54b651",
   "metadata": {},
   "outputs": [
    {
     "data": {
      "text/plain": [
       "'max_parcels'"
      ]
     },
     "execution_count": 248,
     "metadata": {},
     "output_type": "execute_result"
    }
   ],
   "source": [
    "cqm.add_constraint(quicksum(x[i] for i in range(num_items)) <= max_parcels, label='max_parcels')"
   ]
  },
  {
   "cell_type": "markdown",
   "id": "61f94b67",
   "metadata": {},
   "source": [
    "#### Constraint 2: Maximum capacity $ \\sum_{i=0}^{N}w_i\\cdot x_i\\le W $"
   ]
  },
  {
   "cell_type": "code",
   "execution_count": 249,
   "id": "0b64e007",
   "metadata": {},
   "outputs": [
    {
     "data": {
      "text/plain": [
       "'max_capacity'"
      ]
     },
     "execution_count": 249,
     "metadata": {},
     "output_type": "execute_result"
    }
   ],
   "source": [
    "cqm.add_constraint(quicksum(cost[i]*x[i] for i in range(num_items)) <= max_weight, label='max_capacity')"
   ]
  },
  {
   "cell_type": "code",
   "execution_count": 250,
   "id": "74431b31",
   "metadata": {},
   "outputs": [],
   "source": [
    "cqm_sampler=LeapHybridCQMSampler()\n",
    "samplest=cqm_sampler.sample_cqm(cqm, label='Truck Packing Demo', time_limit=10)"
   ]
  },
  {
   "cell_type": "code",
   "execution_count": 251,
   "id": "2d16c607",
   "metadata": {},
   "outputs": [
    {
     "name": "stdout",
     "output_type": "stream",
     "text": [
      "{'constraint_labels': ['max_capacity', 'max_parcels'], 'qpu_access_time': 31844, 'charge_time': 10000000, 'run_time': 10082913, 'problem_id': 'fe140811-b1fd-4fbe-a8e2-a5392e0e025a', 'problem_label': 'Truck Packing Demo'}\n"
     ]
    }
   ],
   "source": [
    "print(samplest.info)"
   ]
  },
  {
   "cell_type": "code",
   "execution_count": 252,
   "id": "c1ee3f78",
   "metadata": {},
   "outputs": [],
   "source": [
    "feasible_sols=np.where(samplest.record.is_feasible==True)"
   ]
  },
  {
   "cell_type": "code",
   "execution_count": 253,
   "id": "1ed32a22",
   "metadata": {},
   "outputs": [
    {
     "data": {
      "text/plain": [
       "array([ 0,  1,  2,  3,  4,  5,  6,  7,  8,  9, 10, 11, 12, 13, 14, 15, 16,\n",
       "       17, 18, 19, 20, 21, 22, 23, 25, 26, 27, 28, 29, 30, 31, 32, 33, 34,\n",
       "       35, 36, 37, 38, 39, 40, 41, 42, 43, 44, 45, 46, 47, 48, 49, 50, 51,\n",
       "       52, 53, 54, 55, 56, 57, 58, 59, 60, 61, 62, 63, 64, 65, 66, 67, 68,\n",
       "       69, 70, 71, 72, 73, 74, 75, 76, 77, 78, 79, 80, 81, 82, 83, 84, 85,\n",
       "       86, 87, 88, 89, 90, 91, 92, 93, 94, 95, 96, 97, 98])"
      ]
     },
     "execution_count": 253,
     "metadata": {},
     "output_type": "execute_result"
    }
   ],
   "source": [
    "feasible_sols[0]"
   ]
  },
  {
   "cell_type": "code",
   "execution_count": 254,
   "id": "fb1da8cc",
   "metadata": {},
   "outputs": [
    {
     "name": "stdout",
     "output_type": "stream",
     "text": [
      "\n",
      "****************** PROBLEM ******************\n",
      "\tDays since order was placed\n",
      "Priority |    3    2      1    0  \n",
      "----------------------------------------\n",
      "    3        30    20     23   16  \n",
      "    2        33    29     28   23  \n",
      "    1        21    31     25   21  \n",
      "\n",
      "****************** SOLUTION ******************\n",
      "\tDays since order was placed\n",
      "Priority |    3    2      1    0  \n",
      "----------------------------------------\n",
      "    3        25    14     11    3  \n",
      "    2        22    13      1    0  \n",
      "    1         9    2       0    0  \n",
      "[ True  True]\n",
      "\n",
      "Total number of selected items: 100\n",
      "Total weight of selected items: 2997\n"
     ]
    }
   ],
   "source": [
    "import itertools\n",
    "\n",
    "if len(feasible_sols[0]):\n",
    "    first_feasible_sol=np.where(samplest.record[feasible_sols[0][0]][0]==1)\n",
    "    #print(first_feasible_sol)\n",
    "    \n",
    "    problem_array=np.zeros((3, 4)).astype(int)\n",
    "    for i in range(num_items):\n",
    "        #print(-1*(priority[i]-3), -1*(days_since_order[i]-3))\n",
    "        problem_array[-1*(priority[i]-3)][-1*(days_since_order[i]-3)]+=1\n",
    "    #print(problem_array)\n",
    "    print(\"\\n****************** PROBLEM ******************\")\n",
    "    print(\"\\tDays since order was placed\")\n",
    "    print(\"{:>5s}{:>5s}{:^10s}{:^4s}{:^5s}\".format(\"Priority |\", \"3\", \"2\", \"1\", \"0\"))\n",
    "    print(\"-\" * 40)\n",
    "    for i in range(3):\n",
    "        print(\"{:>5s}{:>10s}{:^10s}{:^5s}{:^5s}\".format(str(-1*(i-3)), str(problem_array[i][0]), str(problem_array[i][1]), str(problem_array[i][2]), str(problem_array[i][3])))\n",
    "        \n",
    "    solution_array=np.zeros((3, 4)).astype(int)\n",
    "    total_weight=0\n",
    "    for i in range(len(first_feasible_sol[0])):\n",
    "        solution_array[-1*(priority[first_feasible_sol[0][i]]-3)][-1*(days_since_order[first_feasible_sol[0][i]]-3)]+=1\n",
    "        total_weight+=cost[first_feasible_sol[0][i]]\n",
    "    print(\"\\n****************** SOLUTION ******************\")\n",
    "    print(\"\\tDays since order was placed\")\n",
    "    print(\"{:>5s}{:>5s}{:^10s}{:^4s}{:^5s}\".format(\"Priority |\", \"3\", \"2\", \"1\", \"0\"))\n",
    "    print(\"-\" * 40)\n",
    "    for i in range(3):\n",
    "        print(\"{:>5s}{:>10s}{:^10s}{:^5s}{:^5s}\".format(str(-1*(i-3)), str(solution_array[i][0]), str(solution_array[i][1]), str(solution_array[i][2]), str(solution_array[i][3])))\n",
    "        \n",
    "    #first=next(itertools.filterfalse(lambda d: not getattr(d, 'is_feasible'), list(samplest.data())))\n",
    "    #print(first)\n",
    "    infeasible_sample=next(itertools.filterfalse(lambda d: not getattr(d, 'is_feasible'), list(samplest.data())))\n",
    "    print(infeasible_sample.is_satisfied)\n",
    "        \n",
    "    print(\"\\nTotal number of selected items:\", len(first_feasible_sol[0]))\n",
    "    print(\"Total weight of selected items:\", total_weight)"
   ]
  },
  {
   "cell_type": "markdown",
   "id": "7e978cbf",
   "metadata": {},
   "source": [
    "#### just playground"
   ]
  },
  {
   "cell_type": "code",
   "execution_count": 255,
   "id": "1662f56e",
   "metadata": {},
   "outputs": [
    {
     "name": "stdout",
     "output_type": "stream",
     "text": [
      "\n",
      "Found best solution at energy -481.0\n",
      "\n",
      "Selected item numbers (0-indexed): [1, 5, 6, 7, 11, 14, 15, 16, 20, 24, 26, 27, 30, 35, 36, 37, 43, 45, 46, 47, 49, 50, 52, 56, 58, 60, 63, 65, 70, 71, 80, 84, 89, 98, 99, 102, 107, 108, 109, 111, 112, 114, 115, 123, 127, 128, 132, 134, 136, 140, 141, 144, 147, 149, 153, 154, 157, 158, 171, 172, 175, 177, 178, 179, 180, 183, 186, 187, 188, 189, 191, 194, 197, 199, 200, 201, 205, 206, 212, 215, 226, 236, 238, 242, 245, 248, 254, 259, 261, 262, 263, 274, 276, 279, 280, 281, 288, 293, 294, 297]\n"
     ]
    }
   ],
   "source": [
    "feasible_samplest=samplest.filter(lambda row: row.is_feasible)\n",
    "\n",
    "if not len(feasible_samplest):\n",
    "    raise ValueError(\"No feasible solution found\")\n",
    "    \n",
    "best=feasible_samplest.first\n",
    "\n",
    "selected_item_indices=[key for key, val in best.sample.items() if val==1.0]\n",
    "\n",
    "print(\"\\nFound best solution at energy {}\".format(best.energy))\n",
    "print(\"\\nSelected item numbers (0-indexed):\", selected_item_indices)"
   ]
  },
  {
   "cell_type": "code",
   "execution_count": 256,
   "id": "11f3e3eb",
   "metadata": {},
   "outputs": [
    {
     "name": "stdout",
     "output_type": "stream",
     "text": [
      " \n",
      "==============================BEST SAMPLE SET==============================\n",
      "    0   1   2   3   4   5   6   7   8   9  10  11 ... 299 energy num_oc. ...\n",
      "0 0.0 1.0 0.0 0.0 0.0 1.0 1.0 1.0 0.0 0.0 0.0 1.0 ... 0.0 -481.0       1 ...\n",
      "1 0.0 1.0 0.0 0.0 0.0 1.0 1.0 1.0 0.0 0.0 0.0 1.0 ... 0.0 -481.0       1 ...\n",
      "2 0.0 1.0 0.0 0.0 0.0 1.0 1.0 1.0 0.0 0.0 0.0 0.0 ... 0.0 -481.0       1 ...\n",
      "3 0.0 1.0 0.0 0.0 0.0 1.0 1.0 1.0 0.0 0.0 0.0 1.0 ... 0.0 -481.0       1 ...\n",
      "4 0.0 1.0 0.0 0.0 0.0 1.0 1.0 1.0 0.0 0.0 0.0 1.0 ... 0.0 -481.0       1 ...\n",
      "5 0.0 1.0 0.0 0.0 0.0 1.0 1.0 1.0 0.0 0.0 0.0 1.0 ... 0.0 -481.0       1 ...\n",
      "6 0.0 1.0 0.0 0.0 0.0 1.0 1.0 1.0 0.0 0.0 0.0 0.0 ... 0.0 -481.0       1 ...\n",
      "7 0.0 1.0 0.0 0.0 0.0 1.0 1.0 1.0 0.0 0.0 0.0 1.0 ... 0.0 -481.0       1 ...\n",
      "8 0.0 1.0 0.0 0.0 0.0 1.0 1.0 1.0 0.0 0.0 0.0 1.0 ... 0.0 -481.0       1 ...\n",
      "9 0.0 1.0 0.0 0.0 0.0 1.0 1.0 1.0 0.0 0.0 0.0 1.0 ... 0.0 -481.0       1 ...\n",
      "['INTEGER', 10 rows, 10 samples, 300 variables]\n"
     ]
    }
   ],
   "source": [
    "feasible_sampleset=samplest.filter(lambda d: d.is_feasible)\n",
    "num_feasible=len(feasible_sampleset)\n",
    "if num_feasible>0:\n",
    "    best_samples=feasible_sampleset.truncate(min(10, num_feasible))\n",
    "else:\n",
    "    warnings.warn(\"Warning: Did not find feasible solution\")\n",
    "    best_samples=samplest.truncate(10)\n",
    "    \n",
    "print(\" \\n\"+\"=\"*30+\"BEST SAMPLE SET\"+\"=\"*30)\n",
    "print(best_samples)\n",
    "\n",
    "best_sample=best_samples.first.sample\n",
    "#print(best_sample)"
   ]
  }
 ],
 "metadata": {
  "kernelspec": {
   "display_name": "Python 3 (ipykernel)",
   "language": "python",
   "name": "python3"
  },
  "language_info": {
   "codemirror_mode": {
    "name": "ipython",
    "version": 3
   },
   "file_extension": ".py",
   "mimetype": "text/x-python",
   "name": "python",
   "nbconvert_exporter": "python",
   "pygments_lexer": "ipython3",
   "version": "3.10.12"
  }
 },
 "nbformat": 4,
 "nbformat_minor": 5
}

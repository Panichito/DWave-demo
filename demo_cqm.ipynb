{
 "cells": [
  {
   "cell_type": "markdown",
   "id": "86486908",
   "metadata": {},
   "source": [
    "## Delivery Truck Packing Problem \n",
    "In North America there are over 100 standard box sizes that consumer goods are shipped in.\n",
    "\n",
    "Optimally loading delivery trucks with packages, expecially when additional considerations such as priority shipping status, order date and weight/size limits of the trucks are considered is a difficult combinatorial optimization problem.\n",
    "\n",
    "### Objectives:\n",
    "1. Maximize the number of packages selected with priority shipping\n",
    "2. Minimize the number of days the packages are in transit\n",
    "\n",
    "### Constraints:\n",
    "1. Do not exceed the maximum number of packages that can fit on the truck (100)\n",
    "2. Do not exceed the maximmum weight capacity of the truck (3000 lbs)"
   ]
  },
  {
   "cell_type": "code",
   "execution_count": 1,
   "id": "341a59e0",
   "metadata": {},
   "outputs": [],
   "source": [
    "from dwave.system import LeapHybridCQMSampler\n",
    "from dimod import ConstrainedQuadraticModel, Binary, quicksum\n",
    "import random\n",
    "import numpy as np"
   ]
  },
  {
   "cell_type": "code",
   "execution_count": 26,
   "id": "c8826fba",
   "metadata": {},
   "outputs": [],
   "source": [
    "cqm=ConstrainedQuadraticModel()"
   ]
  },
  {
   "cell_type": "code",
   "execution_count": 27,
   "id": "e2d7903b",
   "metadata": {},
   "outputs": [
    {
     "name": "stdout",
     "output_type": "stream",
     "text": [
      "[38, 31, 48, 55, 9, 46, 71, 73, 4, 46, 86, 98, 36, 13, 78, 67, 17, 68, 7, 35, 46, 34, 46, 39, 71, 93, 15, 33, 60, 71, 22, 92, 77, 14, 91, 100, 60, 76, 91, 55, 24, 59, 83, 98, 8, 23, 28, 89, 16, 16, 89, 32, 9, 85, 40, 46, 83, 43, 23, 17, 19, 64, 100, 62, 45, 30, 97, 88, 28, 26, 53, 58, 27, 5, 78, 29, 36, 69, 66, 82, 95, 51, 11, 60, 96, 46, 1, 62, 85, 56, 58, 32, 28, 65, 21, 35, 92, 58, 20, 38, 3, 73, 80, 41, 53, 88, 45, 78, 6, 83, 63, 38, 97, 35, 10, 90, 47, 33, 16, 74, 90, 72, 23, 88, 53, 24, 17, 60, 10, 79, 74, 8, 44, 37, 37, 77, 100, 7, 18, 45, 86, 77, 74, 16, 27, 78, 92, 16, 29, 72, 45, 15, 38, 99, 28, 87, 75, 100, 47, 86, 92, 27, 72, 20, 82, 39, 19, 45, 19, 99, 39, 32, 78, 82, 46, 67, 44, 47, 58, 64, 48, 42, 13, 3, 30, 83, 59, 15, 86, 99, 3, 76, 88, 7, 87, 69, 42, 80, 38, 46, 55, 17, 94, 32, 54, 35, 34, 24, 50, 27, 27, 65, 28, 9, 72, 62, 80, 74, 31, 42, 100, 55, 73, 74, 10, 17, 3, 23, 64, 19, 61, 78, 61, 42, 100, 29, 33, 75, 40, 86, 76, 81, 41, 41, 49, 28, 31, 93, 55, 91, 29, 98, 31, 45, 23, 35, 19, 88, 75, 73, 11, 42, 25, 85, 14, 46, 12, 38, 64, 76, 40, 51, 48, 12, 68, 72, 54, 5, 36, 62, 57, 52, 20, 52, 86, 35, 11, 26, 22, 46, 85, 81, 74, 58, 62, 57, 63, 70, 14, 45]\n"
     ]
    }
   ],
   "source": [
    "random.seed(2002)\n",
    "num_packages=300\n",
    "priority=[random.choice([1, 2, 3]) for i in range(num_packages)]\n",
    "days_since_order=[random.choice([0, 1, 2, 3]) for i in range(num_packages)]\n",
    "cost=[random.randint(1, 100) for i in range(num_packages)]\n",
    "num_items=len(cost)\n",
    "print(cost)"
   ]
  },
  {
   "cell_type": "code",
   "execution_count": 28,
   "id": "77b64a4f",
   "metadata": {},
   "outputs": [],
   "source": [
    "max_weight=3000\n",
    "max_parcels=100\n",
    "obj_weight_priority=1.0\n",
    "obj_weight_days=1"
   ]
  },
  {
   "cell_type": "code",
   "execution_count": 29,
   "id": "fe5f424c",
   "metadata": {},
   "outputs": [],
   "source": [
    "bin_variables=[Binary(i) for i in range(num_items)]"
   ]
  },
  {
   "cell_type": "markdown",
   "id": "6c5ab445",
   "metadata": {},
   "source": [
    "#### Objective 1: Maximize priority shipping $ min(-\\sum_{i=0}^{N}p_i\\cdot x_i) $"
   ]
  },
  {
   "cell_type": "code",
   "execution_count": 30,
   "id": "7a59d13a",
   "metadata": {},
   "outputs": [],
   "source": [
    "obj1=-obj_weight_priority*quicksum(priority[i]*bin_variables[i] for i in range(num_items))"
   ]
  },
  {
   "cell_type": "markdown",
   "id": "4327169f",
   "metadata": {},
   "source": [
    "#### Objective 2: Minimize wait time $ min(-\\sum_{i=0}^{N}d_i\\cdot xi) $"
   ]
  },
  {
   "cell_type": "code",
   "execution_count": 31,
   "id": "af258b3c",
   "metadata": {},
   "outputs": [],
   "source": [
    "obj2=-obj_weight_days*quicksum(days_since_order[i]*bin_variables[i] for i in range(num_items))"
   ]
  },
  {
   "cell_type": "code",
   "execution_count": 32,
   "id": "bc390647",
   "metadata": {},
   "outputs": [],
   "source": [
    "cqm.set_objective(obj1+obj2)"
   ]
  },
  {
   "cell_type": "markdown",
   "id": "483de126",
   "metadata": {},
   "source": [
    "#### Constraint 1: Maximum parcels $ \\sum_{i=0}^{N}x_i=P $"
   ]
  },
  {
   "cell_type": "code",
   "execution_count": 33,
   "id": "8e54b651",
   "metadata": {},
   "outputs": [
    {
     "data": {
      "text/plain": [
       "'max_capacity'"
      ]
     },
     "execution_count": 33,
     "metadata": {},
     "output_type": "execute_result"
    }
   ],
   "source": [
    "cqm.add_constraint(quicksum(cost[i]*bin_variables[i] for i in range(num_items)) <= max_weight, label='max_capacity')"
   ]
  },
  {
   "cell_type": "markdown",
   "id": "61f94b67",
   "metadata": {},
   "source": [
    "#### Constraint 2: Maximum capacity $ \\sum_{i=0}^{N}w_i\\cdot x_i\\le W $"
   ]
  },
  {
   "cell_type": "code",
   "execution_count": 34,
   "id": "0b64e007",
   "metadata": {},
   "outputs": [
    {
     "data": {
      "text/plain": [
       "'max_parcels'"
      ]
     },
     "execution_count": 34,
     "metadata": {},
     "output_type": "execute_result"
    }
   ],
   "source": [
    "cqm.add_constraint(quicksum(bin_variables[i] for i in range(num_items)) <= max_parcels, label='max_parcels')"
   ]
  },
  {
   "cell_type": "code",
   "execution_count": 35,
   "id": "74431b31",
   "metadata": {},
   "outputs": [],
   "source": [
    "cqm_sampler=LeapHybridCQMSampler()\n",
    "samplest=cqm_sampler.sample_cqm(cqm, label='Truck Packing Demo')"
   ]
  },
  {
   "cell_type": "code",
   "execution_count": 36,
   "id": "2d16c607",
   "metadata": {},
   "outputs": [
    {
     "name": "stdout",
     "output_type": "stream",
     "text": [
      "{'constraint_labels': ['max_capacity', 'max_parcels'], 'qpu_access_time': 31851, 'charge_time': 4789668, 'run_time': 4789668, 'problem_id': 'd9d66307-0c1c-443b-9424-3187435bf70c', 'problem_label': 'Truck Packing Demo'}\n"
     ]
    }
   ],
   "source": [
    "print(samplest.info)"
   ]
  },
  {
   "cell_type": "code",
   "execution_count": 37,
   "id": "c1ee3f78",
   "metadata": {},
   "outputs": [],
   "source": [
    "feasible_sols=np.where(samplest.record.is_feasible==True)"
   ]
  },
  {
   "cell_type": "code",
   "execution_count": 38,
   "id": "1ed32a22",
   "metadata": {},
   "outputs": [
    {
     "data": {
      "text/plain": [
       "array([ 1,  2,  3,  4,  5,  6,  7,  8,  9, 10, 11, 12, 13, 14, 15, 16, 17,\n",
       "       18, 19, 20, 21, 22, 23, 24, 25, 26, 27, 28, 29, 30, 31, 32, 33, 34,\n",
       "       35, 36, 37, 38, 39, 40, 41, 42, 43, 44, 45, 46, 47, 48, 49, 50, 51,\n",
       "       52, 53, 54, 55, 56, 57, 58, 59, 60, 61, 62, 63, 64, 65, 66, 67, 68,\n",
       "       69, 70, 71, 72, 73, 74, 75, 76, 77, 78])"
      ]
     },
     "execution_count": 38,
     "metadata": {},
     "output_type": "execute_result"
    }
   ],
   "source": [
    "feasible_sols[0]"
   ]
  },
  {
   "cell_type": "code",
   "execution_count": null,
   "id": "fb1da8cc",
   "metadata": {},
   "outputs": [],
   "source": []
  }
 ],
 "metadata": {
  "kernelspec": {
   "display_name": "Python 3 (ipykernel)",
   "language": "python",
   "name": "python3"
  },
  "language_info": {
   "codemirror_mode": {
    "name": "ipython",
    "version": 3
   },
   "file_extension": ".py",
   "mimetype": "text/x-python",
   "name": "python",
   "nbconvert_exporter": "python",
   "pygments_lexer": "ipython3",
   "version": "3.10.12"
  }
 },
 "nbformat": 4,
 "nbformat_minor": 5
}

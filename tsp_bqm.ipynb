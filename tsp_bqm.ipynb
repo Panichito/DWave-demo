{
 "cells": [
  {
   "cell_type": "markdown",
   "metadata": {},
   "source": [
    "## Traveling Salesperson Problem with QUBO"
   ]
  },
  {
   "cell_type": "code",
   "execution_count": 1,
   "metadata": {},
   "outputs": [],
   "source": [
    "import numpy as np\n",
    "import pandas as pd\n",
    "from scipy.spatial import distance_matrix\n",
    "import matplotlib.pyplot as plt\n",
    "import networkx as nx\n",
    "from time import monotonic"
   ]
  },
  {
   "cell_type": "code",
   "execution_count": 99,
   "metadata": {},
   "outputs": [
    {
     "data": {
      "text/html": [
       "<div>\n",
       "<style scoped>\n",
       "    .dataframe tbody tr th:only-of-type {\n",
       "        vertical-align: middle;\n",
       "    }\n",
       "\n",
       "    .dataframe tbody tr th {\n",
       "        vertical-align: top;\n",
       "    }\n",
       "\n",
       "    .dataframe thead th {\n",
       "        text-align: right;\n",
       "    }\n",
       "</style>\n",
       "<table border=\"1\" class=\"dataframe\">\n",
       "  <thead>\n",
       "    <tr style=\"text-align: right;\">\n",
       "      <th></th>\n",
       "      <th>x</th>\n",
       "      <th>y</th>\n",
       "    </tr>\n",
       "  </thead>\n",
       "  <tbody>\n",
       "    <tr>\n",
       "      <th>0</th>\n",
       "      <td>9466</td>\n",
       "      <td>2135</td>\n",
       "    </tr>\n",
       "    <tr>\n",
       "      <th>1</th>\n",
       "      <td>2825</td>\n",
       "      <td>7371</td>\n",
       "    </tr>\n",
       "    <tr>\n",
       "      <th>2</th>\n",
       "      <td>917</td>\n",
       "      <td>3993</td>\n",
       "    </tr>\n",
       "    <tr>\n",
       "      <th>3</th>\n",
       "      <td>7324</td>\n",
       "      <td>3862</td>\n",
       "    </tr>\n",
       "    <tr>\n",
       "      <th>4</th>\n",
       "      <td>2950</td>\n",
       "      <td>4305</td>\n",
       "    </tr>\n",
       "    <tr>\n",
       "      <th>5</th>\n",
       "      <td>6681</td>\n",
       "      <td>7039</td>\n",
       "    </tr>\n",
       "    <tr>\n",
       "      <th>6</th>\n",
       "      <td>5785</td>\n",
       "      <td>1306</td>\n",
       "    </tr>\n",
       "  </tbody>\n",
       "</table>\n",
       "</div>"
      ],
      "text/plain": [
       "      x     y\n",
       "0  9466  2135\n",
       "1  2825  7371\n",
       "2   917  3993\n",
       "3  7324  3862\n",
       "4  2950  4305\n",
       "5  6681  7039\n",
       "6  5785  1306"
      ]
     },
     "execution_count": 99,
     "metadata": {},
     "output_type": "execute_result"
    }
   ],
   "source": [
    "def tsp_example(points, seed):\n",
    "    np.random.seed(seed)\n",
    "    df=pd.DataFrame({'x': np.random.randint(0, 10000, points), 'y': np.random.randint(0, 10000, points)})\n",
    "    return list([df, -1000, 11000])\n",
    "\n",
    "def tsp_att48():\n",
    "    with open('att48.txt', 'r') as file: lines=file.readlines()\n",
    "    x_coor=[]\n",
    "    y_coor=[]\n",
    "    for i in lines:\n",
    "        x, y=map(int, i.strip().split())\n",
    "        x_coor.append(x)\n",
    "        y_coor.append(y)\n",
    "    data={'x': x_coor, 'y': y_coor}\n",
    "    df=pd.DataFrame(data)\n",
    "    return list([df, -400, 8300])\n",
    "\n",
    "get_instances=tsp_example(7, 2018)\n",
    "#get_instances=tsp_att48()\n",
    "df=get_instances[0]\n",
    "df"
   ]
  },
  {
   "cell_type": "markdown",
   "metadata": {},
   "source": [
    "#### Draw a problem state"
   ]
  },
  {
   "cell_type": "code",
   "execution_count": 101,
   "metadata": {},
   "outputs": [
    {
     "data": {
      "image/png": "[encoded data removed]",
      "text/plain": [
       "<Figure size 500x500 with 1 Axes>"
      ]
     },
     "metadata": {},
     "output_type": "display_data"
    }
   ],
   "source": [
    "plt.figure(figsize=(5, 5))\n",
    "\n",
    "city_index=\"ABCDEFGHIJKLMNOPQRSTUVWXYZ\"\n",
    "for i in range(len(df)):\n",
    "    plt.scatter(df.iloc[i]['x'], df.iloc[i]['y'], c='red')\n",
    "    plt.text(df.iloc[i]['x']+0.69, df.iloc[i]['y']+0.69, f'{city_index[i]}')\n",
    "    #plt.text(df.iloc[i]['x']+0.69, df.iloc[i]['y']+0.69, f'{i}')\n",
    "\n",
    "plt.show()"
   ]
  },
  {
   "cell_type": "markdown",
   "metadata": {},
   "source": [
    "#### Create a distance matrix"
   ]
  },
  {
   "cell_type": "code",
   "execution_count": 102,
   "metadata": {},
   "outputs": [
    {
     "name": "stdout",
     "output_type": "stream",
     "text": [
      "[[    0. 11877. 10407.  3869.  8686.  7689.  4510.]\n",
      " [11877.     0.  5286.  8008.  3191.  4188.  9025.]\n",
      " [10407.  5286.     0.  6538.  2345.  8810.  7555.]\n",
      " [ 3869.  8008.  6538.     0.  4817.  3820.  4095.]\n",
      " [ 8686.  3191.  2345.  4817.     0.  6465.  5834.]\n",
      " [ 7689.  4188.  8810.  3820.  6465.     0.  6629.]\n",
      " [ 4510.  9025.  7555.  4095.  5834.  6629.     0.]]\n"
     ]
    }
   ],
   "source": [
    "n_point=len(df)\n",
    "time_step=n_point\n",
    "\n",
    "d=distance_matrix(df[['x', 'y']].values, df[['x', 'y']].values, p=1)  # 1=manhattan distance, 2=euclidean distance\n",
    "print(d)"
   ]
  },
  {
   "cell_type": "markdown",
   "metadata": {},
   "source": [
    "### Create the $Q$ Matrix for TSP"
   ]
  },
  {
   "cell_type": "code",
   "execution_count": 103,
   "metadata": {},
   "outputs": [],
   "source": [
    "class TSP_QUBO_Matrix():\n",
    "    def __init__(self, n=1024):\n",
    "        self.array=np.zeros((n, n), dtype=int)\n",
    "        self.constant=0\n",
    "        self._size=n\n",
    "    \n",
    "    def add_term(self, i, j, c):\n",
    "        if i>=self._size or j>=self._size:\n",
    "            raise RuntimeError(\"Wrong index\")\n",
    "        self.array[i][j]+=c\n",
    "        \n",
    "    def add_constant(self, c):\n",
    "        self.constant+=c\n",
    "        \n",
    "    def sum(self, p):\n",
    "        if self._size != p._size:\n",
    "            raise RuntimeError(\"Wrong polynomial size\")\n",
    "        self.array+=p.array\n",
    "        self.constant+=p.constant\n",
    "        \n",
    "    def power(self):\n",
    "        a=np.diag(self.array)\n",
    "        self.array=np.outer(a, a) + 2*self.constant*np.diag(a) # convert back to NxN\n",
    "        self.constant**=2\n",
    "        \n",
    "    def multiply(self, p):\n",
    "        a=np.diag(self.array)\n",
    "        b=np.diag(p.array)\n",
    "        self.array=np.outer(a, b) + self.constant*np.diag(b) + p.constant*np.diag(a)\n",
    "        self.constant*=p.constant"
   ]
  },
  {
   "cell_type": "markdown",
   "metadata": {},
   "source": [
    "##### $ Objective=\\sum_{t=0}^{time-1}\\sum_{i=0}^{city}\\sum_{j=0}^{city}x_{i,t}\\cdot x_{j,t+1}\\cdot d_{i,j} + \\sum_{i=0}^{city}\\sum_{j=0}^{city}x_{i,t_{end}}\\cdot x_{j,0}\\cdot d_{i,j} $ (last terms for calculating Hamiltonian cycle)"
   ]
  },
  {
   "cell_type": "code",
   "execution_count": 104,
   "metadata": {},
   "outputs": [],
   "source": [
    "def objective_function():\n",
    "    qubo=TSP_QUBO_Matrix(n_point*time_step)\n",
    "    # Ex. 3 cities iterate 0 1 2-> (0,1) (0,2) (2,0)\n",
    "    for t in range(time_step):\n",
    "        for i in range(n_point):\n",
    "            for j in range(n_point):\n",
    "                #print(city_index[i], city_index[j], t)\n",
    "                if t==time_step-1: \n",
    "                    qubo.add_term((i*time_step)+t, (j*time_step), d[i][j])  # last terms that the final destination reaches the original node\n",
    "                else:\n",
    "                    qubo.add_term((i*time_step)+t, (j*time_step)+t+1, d[i][j])\n",
    "    #print(qubo.array)\n",
    "    return qubo"
   ]
  },
  {
   "cell_type": "markdown",
   "metadata": {},
   "source": [
    "##### $ Constraint_{1}=\\sum_{t=0}^{time}(\\sum_{i=0}^{city} x_{i, t}-1)^2 $ (one-hot constraint for column)"
   ]
  },
  {
   "cell_type": "code",
   "execution_count": 105,
   "metadata": {},
   "outputs": [],
   "source": [
    "def build_one_car_each_t(alpha):\n",
    "    qubo=TSP_QUBO_Matrix(n_point*time_step)\n",
    "    for t in range(time_step):\n",
    "        tmp=TSP_QUBO_Matrix(n_point*time_step)\n",
    "        for i in range(n_point):\n",
    "            #print((i*time_step)+t, t)\n",
    "            tmp.add_term((i*time_step)+t, (i*time_step)+t, alpha)\n",
    "        tmp.add_constant(-alpha)\n",
    "        tmp.power()\n",
    "        qubo.sum(tmp)\n",
    "        #print(tmp.array)\n",
    "    #print(qubo.array)\n",
    "    return qubo"
   ]
  },
  {
   "cell_type": "markdown",
   "metadata": {},
   "source": [
    "##### $ Constraint_{2}=\\sum_{i=0}^{city}(\\sum_{t=0}^{time} x_{i, t}-1)^2 $ (one-hot constraint for row)"
   ]
  },
  {
   "cell_type": "code",
   "execution_count": 106,
   "metadata": {},
   "outputs": [],
   "source": [
    "def build_car_visit_once(alpha):\n",
    "    qubo=TSP_QUBO_Matrix(n_point*time_step)\n",
    "    for i in range(n_point):\n",
    "        tmp=TSP_QUBO_Matrix(n_point*time_step)\n",
    "        for t in range(time_step):\n",
    "            #print((i*time_step)+t, t)\n",
    "            tmp.add_term((i*time_step)+t, (i*time_step)+t, alpha)\n",
    "        tmp.add_constant(-alpha)\n",
    "        tmp.power()\n",
    "        qubo.sum(tmp)\n",
    "        #print(tmp.array)\n",
    "    #print(qubo.array)\n",
    "    return qubo"
   ]
  },
  {
   "cell_type": "code",
   "execution_count": 107,
   "metadata": {},
   "outputs": [
    {
     "name": "stdout",
     "output_type": "stream",
     "text": [
      "Gen. Q time 0.009016857999995409 seconds\n",
      "constant = 3500000\n",
      "[[-500000  250000  250000  250000  250000  250000  250000  250000   11877\n",
      "        0       0       0       0       0  250000   10407       0       0\n",
      "        0       0       0  250000    3869       0       0       0       0\n",
      "        0  250000    8686       0       0       0       0       0  250000\n",
      "     7689       0       0       0       0       0  250000    4510       0\n",
      "        0       0       0       0]\n",
      " [ 250000 -500000  250000  250000  250000  250000  250000       0  250000\n",
      "    11877       0       0       0       0       0  250000   10407       0\n",
      "        0       0       0       0  250000    3869       0       0       0\n",
      "        0       0  250000    8686       0       0       0       0       0\n",
      "   250000    7689       0       0       0       0       0  250000    4510\n",
      "        0       0       0       0]\n",
      " [ 250000  250000 -500000  250000  250000  250000  250000       0       0\n",
      "   250000   11877       0       0       0       0       0  250000   10407\n",
      "        0       0       0       0       0  250000    3869       0       0\n",
      "        0       0       0  250000    8686       0       0       0       0\n",
      "        0  250000    7689       0       0       0       0       0  250000\n",
      "     4510       0       0       0]\n",
      " [ 250000  250000  250000 -500000  250000  250000  250000       0       0\n",
      "        0  250000   11877       0       0       0       0       0  250000\n",
      "    10407       0       0       0       0       0  250000    3869       0\n",
      "        0       0       0       0  250000    8686       0       0       0\n",
      "        0       0  250000    7689       0       0       0       0       0\n",
      "   250000    4510       0       0]\n",
      " [ 250000  250000  250000  250000 -500000  250000  250000       0       0\n",
      "        0       0  250000   11877       0       0       0       0       0\n",
      "   250000   10407       0       0       0       0       0  250000    3869\n",
      "        0       0       0       0       0  250000    8686       0       0\n",
      "        0       0       0  250000    7689       0       0       0       0\n",
      "        0  250000    4510       0]\n",
      " [ 250000  250000  250000  250000  250000 -500000  250000       0       0\n",
      "        0       0       0  250000   11877       0       0       0       0\n",
      "        0  250000   10407       0       0       0       0       0  250000\n",
      "     3869       0       0       0       0       0  250000    8686       0\n",
      "        0       0       0       0  250000    7689       0       0       0\n",
      "        0       0  250000    4510]\n",
      " [ 250000  250000  250000  250000  250000  250000 -500000   11877       0\n",
      "        0       0       0       0  250000   10407       0       0       0\n",
      "        0       0  250000    3869       0       0       0       0       0\n",
      "   250000    8686       0       0       0       0       0  250000    7689\n",
      "        0       0       0       0       0  250000    4510       0       0\n",
      "        0       0       0  250000]\n",
      " [ 250000   11877       0       0       0       0       0 -500000  250000\n",
      "   250000  250000  250000  250000  250000  250000    5286       0       0\n",
      "        0       0       0  250000    8008       0       0       0       0\n",
      "        0  250000    3191       0       0       0       0       0  250000\n",
      "     4188       0       0       0       0       0  250000    9025       0\n",
      "        0       0       0       0]\n",
      " [      0  250000   11877       0       0       0       0  250000 -500000\n",
      "   250000  250000  250000  250000  250000       0  250000    5286       0\n",
      "        0       0       0       0  250000    8008       0       0       0\n",
      "        0       0  250000    3191       0       0       0       0       0\n",
      "   250000    4188       0       0       0       0       0  250000    9025\n",
      "        0       0       0       0]\n",
      " [      0       0  250000   11877       0       0       0  250000  250000\n",
      "  -500000  250000  250000  250000  250000       0       0  250000    5286\n",
      "        0       0       0       0       0  250000    8008       0       0\n",
      "        0       0       0  250000    3191       0       0       0       0\n",
      "        0  250000    4188       0       0       0       0       0  250000\n",
      "     9025       0       0       0]\n",
      " [      0       0       0  250000   11877       0       0  250000  250000\n",
      "   250000 -500000  250000  250000  250000       0       0       0  250000\n",
      "     5286       0       0       0       0       0  250000    8008       0\n",
      "        0       0       0       0  250000    3191       0       0       0\n",
      "        0       0  250000    4188       0       0       0       0       0\n",
      "   250000    9025       0       0]\n",
      " [      0       0       0       0  250000   11877       0  250000  250000\n",
      "   250000  250000 -500000  250000  250000       0       0       0       0\n",
      "   250000    5286       0       0       0       0       0  250000    8008\n",
      "        0       0       0       0       0  250000    3191       0       0\n",
      "        0       0       0  250000    4188       0       0       0       0\n",
      "        0  250000    9025       0]\n",
      " [      0       0       0       0       0  250000   11877  250000  250000\n",
      "   250000  250000  250000 -500000  250000       0       0       0       0\n",
      "        0  250000    5286       0       0       0       0       0  250000\n",
      "     8008       0       0       0       0       0  250000    3191       0\n",
      "        0       0       0       0  250000    4188       0       0       0\n",
      "        0       0  250000    9025]\n",
      " [  11877       0       0       0       0       0  250000  250000  250000\n",
      "   250000  250000  250000  250000 -500000    5286       0       0       0\n",
      "        0       0  250000    8008       0       0       0       0       0\n",
      "   250000    3191       0       0       0       0       0  250000    4188\n",
      "        0       0       0       0       0  250000    9025       0       0\n",
      "        0       0       0  250000]\n",
      " [ 250000   10407       0       0       0       0       0  250000    5286\n",
      "        0       0       0       0       0 -500000  250000  250000  250000\n",
      "   250000  250000  250000  250000    6538       0       0       0       0\n",
      "        0  250000    2345       0       0       0       0       0  250000\n",
      "     8810       0       0       0       0       0  250000    7555       0\n",
      "        0       0       0       0]\n",
      " [      0  250000   10407       0       0       0       0       0  250000\n",
      "     5286       0       0       0       0  250000 -500000  250000  250000\n",
      "   250000  250000  250000       0  250000    6538       0       0       0\n",
      "        0       0  250000    2345       0       0       0       0       0\n",
      "   250000    8810       0       0       0       0       0  250000    7555\n",
      "        0       0       0       0]\n",
      " [      0       0  250000   10407       0       0       0       0       0\n",
      "   250000    5286       0       0       0  250000  250000 -500000  250000\n",
      "   250000  250000  250000       0       0  250000    6538       0       0\n",
      "        0       0       0  250000    2345       0       0       0       0\n",
      "        0  250000    8810       0       0       0       0       0  250000\n",
      "     7555       0       0       0]\n",
      " [      0       0       0  250000   10407       0       0       0       0\n",
      "        0  250000    5286       0       0  250000  250000  250000 -500000\n",
      "   250000  250000  250000       0       0       0  250000    6538       0\n",
      "        0       0       0       0  250000    2345       0       0       0\n",
      "        0       0  250000    8810       0       0       0       0       0\n",
      "   250000    7555       0       0]\n",
      " [      0       0       0       0  250000   10407       0       0       0\n",
      "        0       0  250000    5286       0  250000  250000  250000  250000\n",
      "  -500000  250000  250000       0       0       0       0  250000    6538\n",
      "        0       0       0       0       0  250000    2345       0       0\n",
      "        0       0       0  250000    8810       0       0       0       0\n",
      "        0  250000    7555       0]\n",
      " [      0       0       0       0       0  250000   10407       0       0\n",
      "        0       0       0  250000    5286  250000  250000  250000  250000\n",
      "   250000 -500000  250000       0       0       0       0       0  250000\n",
      "     6538       0       0       0       0       0  250000    2345       0\n",
      "        0       0       0       0  250000    8810       0       0       0\n",
      "        0       0  250000    7555]\n",
      " [  10407       0       0       0       0       0  250000    5286       0\n",
      "        0       0       0       0  250000  250000  250000  250000  250000\n",
      "   250000  250000 -500000    6538       0       0       0       0       0\n",
      "   250000    2345       0       0       0       0       0  250000    8810\n",
      "        0       0       0       0       0  250000    7555       0       0\n",
      "        0       0       0  250000]\n",
      " [ 250000    3869       0       0       0       0       0  250000    8008\n",
      "        0       0       0       0       0  250000    6538       0       0\n",
      "        0       0       0 -500000  250000  250000  250000  250000  250000\n",
      "   250000  250000    4817       0       0       0       0       0  250000\n",
      "     3820       0       0       0       0       0  250000    4095       0\n",
      "        0       0       0       0]\n",
      " [      0  250000    3869       0       0       0       0       0  250000\n",
      "     8008       0       0       0       0       0  250000    6538       0\n",
      "        0       0       0  250000 -500000  250000  250000  250000  250000\n",
      "   250000       0  250000    4817       0       0       0       0       0\n",
      "   250000    3820       0       0       0       0       0  250000    4095\n",
      "        0       0       0       0]\n",
      " [      0       0  250000    3869       0       0       0       0       0\n",
      "   250000    8008       0       0       0       0       0  250000    6538\n",
      "        0       0       0  250000  250000 -500000  250000  250000  250000\n",
      "   250000       0       0  250000    4817       0       0       0       0\n",
      "        0  250000    3820       0       0       0       0       0  250000\n",
      "     4095       0       0       0]\n",
      " [      0       0       0  250000    3869       0       0       0       0\n",
      "        0  250000    8008       0       0       0       0       0  250000\n",
      "     6538       0       0  250000  250000  250000 -500000  250000  250000\n",
      "   250000       0       0       0  250000    4817       0       0       0\n",
      "        0       0  250000    3820       0       0       0       0       0\n",
      "   250000    4095       0       0]\n",
      " [      0       0       0       0  250000    3869       0       0       0\n",
      "        0       0  250000    8008       0       0       0       0       0\n",
      "   250000    6538       0  250000  250000  250000  250000 -500000  250000\n",
      "   250000       0       0       0       0  250000    4817       0       0\n",
      "        0       0       0  250000    3820       0       0       0       0\n",
      "        0  250000    4095       0]\n",
      " [      0       0       0       0       0  250000    3869       0       0\n",
      "        0       0       0  250000    8008       0       0       0       0\n",
      "        0  250000    6538  250000  250000  250000  250000  250000 -500000\n",
      "   250000       0       0       0       0       0  250000    4817       0\n",
      "        0       0       0       0  250000    3820       0       0       0\n",
      "        0       0  250000    4095]\n",
      " [   3869       0       0       0       0       0  250000    8008       0\n",
      "        0       0       0       0  250000    6538       0       0       0\n",
      "        0       0  250000  250000  250000  250000  250000  250000  250000\n",
      "  -500000    4817       0       0       0       0       0  250000    3820\n",
      "        0       0       0       0       0  250000    4095       0       0\n",
      "        0       0       0  250000]\n",
      " [ 250000    8686       0       0       0       0       0  250000    3191\n",
      "        0       0       0       0       0  250000    2345       0       0\n",
      "        0       0       0  250000    4817       0       0       0       0\n",
      "        0 -500000  250000  250000  250000  250000  250000  250000  250000\n",
      "     6465       0       0       0       0       0  250000    5834       0\n",
      "        0       0       0       0]\n",
      " [      0  250000    8686       0       0       0       0       0  250000\n",
      "     3191       0       0       0       0       0  250000    2345       0\n",
      "        0       0       0       0  250000    4817       0       0       0\n",
      "        0  250000 -500000  250000  250000  250000  250000  250000       0\n",
      "   250000    6465       0       0       0       0       0  250000    5834\n",
      "        0       0       0       0]\n",
      " [      0       0  250000    8686       0       0       0       0       0\n",
      "   250000    3191       0       0       0       0       0  250000    2345\n",
      "        0       0       0       0       0  250000    4817       0       0\n",
      "        0  250000  250000 -500000  250000  250000  250000  250000       0\n",
      "        0  250000    6465       0       0       0       0       0  250000\n",
      "     5834       0       0       0]\n",
      " [      0       0       0  250000    8686       0       0       0       0\n",
      "        0  250000    3191       0       0       0       0       0  250000\n",
      "     2345       0       0       0       0       0  250000    4817       0\n",
      "        0  250000  250000  250000 -500000  250000  250000  250000       0\n",
      "        0       0  250000    6465       0       0       0       0       0\n",
      "   250000    5834       0       0]\n",
      " [      0       0       0       0  250000    8686       0       0       0\n",
      "        0       0  250000    3191       0       0       0       0       0\n",
      "   250000    2345       0       0       0       0       0  250000    4817\n",
      "        0  250000  250000  250000  250000 -500000  250000  250000       0\n",
      "        0       0       0  250000    6465       0       0       0       0\n",
      "        0  250000    5834       0]\n",
      " [      0       0       0       0       0  250000    8686       0       0\n",
      "        0       0       0  250000    3191       0       0       0       0\n",
      "        0  250000    2345       0       0       0       0       0  250000\n",
      "     4817  250000  250000  250000  250000  250000 -500000  250000       0\n",
      "        0       0       0       0  250000    6465       0       0       0\n",
      "        0       0  250000    5834]\n",
      " [   8686       0       0       0       0       0  250000    3191       0\n",
      "        0       0       0       0  250000    2345       0       0       0\n",
      "        0       0  250000    4817       0       0       0       0       0\n",
      "   250000  250000  250000  250000  250000  250000  250000 -500000    6465\n",
      "        0       0       0       0       0  250000    5834       0       0\n",
      "        0       0       0  250000]\n",
      " [ 250000    7689       0       0       0       0       0  250000    4188\n",
      "        0       0       0       0       0  250000    8810       0       0\n",
      "        0       0       0  250000    3820       0       0       0       0\n",
      "        0  250000    6465       0       0       0       0       0 -500000\n",
      "   250000  250000  250000  250000  250000  250000  250000    6629       0\n",
      "        0       0       0       0]\n",
      " [      0  250000    7689       0       0       0       0       0  250000\n",
      "     4188       0       0       0       0       0  250000    8810       0\n",
      "        0       0       0       0  250000    3820       0       0       0\n",
      "        0       0  250000    6465       0       0       0       0  250000\n",
      "  -500000  250000  250000  250000  250000  250000       0  250000    6629\n",
      "        0       0       0       0]\n",
      " [      0       0  250000    7689       0       0       0       0       0\n",
      "   250000    4188       0       0       0       0       0  250000    8810\n",
      "        0       0       0       0       0  250000    3820       0       0\n",
      "        0       0       0  250000    6465       0       0       0  250000\n",
      "   250000 -500000  250000  250000  250000  250000       0       0  250000\n",
      "     6629       0       0       0]\n",
      " [      0       0       0  250000    7689       0       0       0       0\n",
      "        0  250000    4188       0       0       0       0       0  250000\n",
      "     8810       0       0       0       0       0  250000    3820       0\n",
      "        0       0       0       0  250000    6465       0       0  250000\n",
      "   250000  250000 -500000  250000  250000  250000       0       0       0\n",
      "   250000    6629       0       0]\n",
      " [      0       0       0       0  250000    7689       0       0       0\n",
      "        0       0  250000    4188       0       0       0       0       0\n",
      "   250000    8810       0       0       0       0       0  250000    3820\n",
      "        0       0       0       0       0  250000    6465       0  250000\n",
      "   250000  250000  250000 -500000  250000  250000       0       0       0\n",
      "        0  250000    6629       0]\n",
      " [      0       0       0       0       0  250000    7689       0       0\n",
      "        0       0       0  250000    4188       0       0       0       0\n",
      "        0  250000    8810       0       0       0       0       0  250000\n",
      "     3820       0       0       0       0       0  250000    6465  250000\n",
      "   250000  250000  250000  250000 -500000  250000       0       0       0\n",
      "        0       0  250000    6629]\n",
      " [   7689       0       0       0       0       0  250000    4188       0\n",
      "        0       0       0       0  250000    8810       0       0       0\n",
      "        0       0  250000    3820       0       0       0       0       0\n",
      "   250000    6465       0       0       0       0       0  250000  250000\n",
      "   250000  250000  250000  250000  250000 -500000    6629       0       0\n",
      "        0       0       0  250000]\n",
      " [ 250000    4510       0       0       0       0       0  250000    9025\n",
      "        0       0       0       0       0  250000    7555       0       0\n",
      "        0       0       0  250000    4095       0       0       0       0\n",
      "        0  250000    5834       0       0       0       0       0  250000\n",
      "     6629       0       0       0       0       0 -500000  250000  250000\n",
      "   250000  250000  250000  250000]\n",
      " [      0  250000    4510       0       0       0       0       0  250000\n",
      "     9025       0       0       0       0       0  250000    7555       0\n",
      "        0       0       0       0  250000    4095       0       0       0\n",
      "        0       0  250000    5834       0       0       0       0       0\n",
      "   250000    6629       0       0       0       0  250000 -500000  250000\n",
      "   250000  250000  250000  250000]\n",
      " [      0       0  250000    4510       0       0       0       0       0\n",
      "   250000    9025       0       0       0       0       0  250000    7555\n",
      "        0       0       0       0       0  250000    4095       0       0\n",
      "        0       0       0  250000    5834       0       0       0       0\n",
      "        0  250000    6629       0       0       0  250000  250000 -500000\n",
      "   250000  250000  250000  250000]\n",
      " [      0       0       0  250000    4510       0       0       0       0\n",
      "        0  250000    9025       0       0       0       0       0  250000\n",
      "     7555       0       0       0       0       0  250000    4095       0\n",
      "        0       0       0       0  250000    5834       0       0       0\n",
      "        0       0  250000    6629       0       0  250000  250000  250000\n",
      "  -500000  250000  250000  250000]\n",
      " [      0       0       0       0  250000    4510       0       0       0\n",
      "        0       0  250000    9025       0       0       0       0       0\n",
      "   250000    7555       0       0       0       0       0  250000    4095\n",
      "        0       0       0       0       0  250000    5834       0       0\n",
      "        0       0       0  250000    6629       0  250000  250000  250000\n",
      "   250000 -500000  250000  250000]\n",
      " [      0       0       0       0       0  250000    4510       0       0\n",
      "        0       0       0  250000    9025       0       0       0       0\n",
      "        0  250000    7555       0       0       0       0       0  250000\n",
      "     4095       0       0       0       0       0  250000    5834       0\n",
      "        0       0       0       0  250000    6629  250000  250000  250000\n",
      "   250000  250000 -500000  250000]\n",
      " [   4510       0       0       0       0       0  250000    9025       0\n",
      "        0       0       0       0  250000    7555       0       0       0\n",
      "        0       0  250000    4095       0       0       0       0       0\n",
      "   250000    5834       0       0       0       0       0  250000    6629\n",
      "        0       0       0       0       0  250000  250000  250000  250000\n",
      "   250000  250000  250000 -500000]]\n",
      "Matrix size: 49 x 49\n"
     ]
    }
   ],
   "source": [
    "start_time=monotonic()  # timer\n",
    "\n",
    "Q=TSP_QUBO_Matrix(n_point*time_step)\n",
    "Obj=objective_function()\n",
    "C1=build_one_car_each_t(500) # column-alpha\n",
    "C2=build_car_visit_once(500) # row-alpha\n",
    "Q.sum(Obj)\n",
    "Q.sum(C1)\n",
    "Q.sum(C2)\n",
    "\n",
    "print(f\"Gen. Q time {monotonic() - start_time} seconds\")\n",
    "print(\"constant =\", Q.constant)\n",
    "print(Q.array)\n",
    "print(f\"Matrix size: {Q._size} x {Q._size}\")"
   ]
  },
  {
   "cell_type": "code",
   "execution_count": 108,
   "metadata": {},
   "outputs": [
    {
     "name": "stdout",
     "output_type": "stream",
     "text": [
      "# of terms = 931\n",
      "# of total = 2401\n",
      "Terms = 0.3877551020408163%\n"
     ]
    }
   ],
   "source": [
    "from collections import defaultdict\n",
    "Q_dwave=defaultdict(int)\n",
    "\n",
    "for i in range(Q._size):\n",
    "    for j in range(Q._size):\n",
    "        if Q.array[i, j]!=0:\n",
    "            Q_dwave[(i, j)]=Q.array[i, j]\n",
    "\n",
    "print(\"# of terms =\", len(Q_dwave))\n",
    "print(\"# of total =\", Q._size**2)\n",
    "print(f'Terms = {len(Q_dwave)/(Q._size**2)}%')"
   ]
  },
  {
   "cell_type": "markdown",
   "metadata": {},
   "source": [
    "### Solve $x^TQx$ via D'Wave Quadratic Model"
   ]
  },
  {
   "cell_type": "code",
   "execution_count": 109,
   "metadata": {},
   "outputs": [],
   "source": [
    "from dwave.system import DWaveSampler, EmbeddingComposite, LeapHybridSampler\n",
    "from dimod import BinaryQuadraticModel\n",
    "\n",
    "bqm=BinaryQuadraticModel('BINARY')\n",
    "bqm=BinaryQuadraticModel.from_qubo(Q_dwave)"
   ]
  },
  {
   "cell_type": "code",
   "execution_count": 110,
   "metadata": {},
   "outputs": [
    {
     "name": "stdout",
     "output_type": "stream",
     "text": [
      "D-wave time 12.502912483999808 seconds\n"
     ]
    }
   ],
   "source": [
    "start_time=monotonic()\n",
    "\n",
    "bqm_sampler=LeapHybridSampler()\n",
    "sampleset=bqm_sampler.sample(bqm, label=f'TSP-{n_point}-QUBO', time_limit=25)\n",
    "#sampleset=bqm_sampler.sample(bqm, label='ATT48-TSP-QUBO')\n",
    "\n",
    "print(f\"D-wave time {monotonic()-start_time} seconds\")"
   ]
  },
  {
   "cell_type": "code",
   "execution_count": 111,
   "metadata": {},
   "outputs": [
    {
     "name": "stdout",
     "output_type": "stream",
     "text": [
      "{'qpu_access_time': 716178, 'charge_time': 24992021, 'run_time': 24992021, 'problem_id': '88d7c3eb-f413-4f3a-91d7-b596b8861b2e', 'problem_label': 'TSP-7-QUBO'}\n"
     ]
    }
   ],
   "source": [
    "print(sampleset.info)"
   ]
  },
  {
   "cell_type": "code",
   "execution_count": 112,
   "metadata": {},
   "outputs": [
    {
     "name": "stdout",
     "output_type": "stream",
     "text": [
      "Best Sample: {0: 0, 1: 0, 2: 0, 3: 0, 4: 1, 5: 0, 6: 0, 7: 1, 8: 0, 9: 0, 10: 0, 11: 0, 12: 0, 13: 0, 14: 0, 15: 0, 16: 1, 17: 0, 18: 0, 19: 0, 20: 0, 21: 0, 22: 0, 23: 0, 24: 0, 25: 0, 26: 1, 27: 0, 28: 0, 29: 1, 30: 0, 31: 0, 32: 0, 33: 0, 34: 0, 35: 0, 36: 0, 37: 0, 38: 0, 39: 0, 40: 0, 41: 1, 42: 0, 43: 0, 44: 0, 45: 1, 46: 0, 47: 0, 48: 0}\n",
      "Best Energy: -3470522.0\n"
     ]
    }
   ],
   "source": [
    "best_sample=sampleset.first.sample\n",
    "best_energy=sampleset.first.energy\n",
    "\n",
    "print(\"Best Sample:\", best_sample)\n",
    "print(\"Best Energy:\", best_energy)\n",
    "\n",
    "# map it back to answer\n",
    "solution=np.zeros(n_point*time_step, dtype=int)\n",
    "for index, var in enumerate(best_sample):\n",
    "    solution[index]=int(best_sample[var])"
   ]
  },
  {
   "cell_type": "code",
   "execution_count": 113,
   "metadata": {},
   "outputs": [],
   "source": [
    "import sys\n",
    "np.set_printoptions(threshold=sys.maxsize)\n",
    "#print(solution.reshape(n_point, time_step))\n",
    "solution=solution.reshape(n_point, time_step)"
   ]
  },
  {
   "cell_type": "code",
   "execution_count": 114,
   "metadata": {},
   "outputs": [],
   "source": [
    "def check_c1():\n",
    "    for t in range(time_step):\n",
    "        cnt=0\n",
    "        for i in range(n_point):\n",
    "            cnt+=solution[i][t]\n",
    "        if cnt!=1:\n",
    "            return False\n",
    "    return True\n",
    "\n",
    "def check_c2():\n",
    "    for i in range(n_point):\n",
    "        cnt=0\n",
    "        for t in range(time_step):\n",
    "            cnt+=solution[i][t]\n",
    "        if cnt!=1:\n",
    "            return False\n",
    "    return True"
   ]
  },
  {
   "cell_type": "code",
   "execution_count": 115,
   "metadata": {},
   "outputs": [
    {
     "name": "stdout",
     "output_type": "stream",
     "text": [
      "x4 = 1 (city: 0, time: 4)\n",
      "x7 = 1 (city: 1, time: 0)\n",
      "x16 = 1 (city: 2, time: 2)\n",
      "x26 = 1 (city: 3, time: 5)\n",
      "x29 = 1 (city: 4, time: 1)\n",
      "x41 = 1 (city: 5, time: 6)\n",
      "x45 = 1 (city: 6, time: 3)\n",
      "[1, 4, 2, 6, 0, 3, 5, 1]\n",
      "Number of visited: 8\n",
      "Number of unique: 7\n",
      "C1: True\n",
      "C2: True\n"
     ]
    }
   ],
   "source": [
    "routes=[0]*time_step\n",
    "for index, (key, val) in enumerate(best_sample.items()):\n",
    "    #print(index, key, val)\n",
    "    if val > 0.5:\n",
    "        print(f'x{index} = {val} (city: {int(index/time_step)}, time: {index%time_step})')\n",
    "        routes[index%time_step]=int(index/time_step)\n",
    "\n",
    "routes.append(routes[0])  # append for drawing graph with Hamiltonian cycle by hand\n",
    "print(routes)\n",
    "print(\"Number of visited:\", len(routes))\n",
    "print(\"Number of unique:\", len(set(routes)))\n",
    "print(\"C1:\", check_c1())\n",
    "print(\"C2:\", check_c2())"
   ]
  },
  {
   "cell_type": "markdown",
   "metadata": {},
   "source": [
    "#### Visualization"
   ]
  },
  {
   "cell_type": "code",
   "execution_count": 116,
   "metadata": {},
   "outputs": [
    {
     "data": {
      "image/png": "[encoded data removed]",
      "text/plain": [
       "<Figure size 500x500 with 1 Axes>"
      ]
     },
     "metadata": {},
     "output_type": "display_data"
    },
    {
     "name": "stdout",
     "output_type": "stream",
     "text": [
      "Total cost: 29478.0\n"
     ]
    }
   ],
   "source": [
    "plt.figure(figsize=(5, 5))\n",
    "\n",
    "for i in range(len(df)):\n",
    "    plt.scatter(df.iloc[i]['x'], df.iloc[i]['y'], c='red')\n",
    "    plt.text(df.iloc[i]['x']+0.69, df.iloc[i]['y']+0.69, f'{city_index[i]}')\n",
    "    #plt.text(df.iloc[i]['x']+0.88, df.iloc[i]['y']+0.88, f'{i}')\n",
    "\n",
    "for i in range(len(routes)-1):\n",
    "    #plt.arrow(df.iloc[routes[i]]['x'], df.iloc[routes[i]]['y'], df.iloc[routes[i+1]]['x'] - df.iloc[routes[i]]['x'], df.iloc[routes[i+1]]['y'] - df.iloc[routes[i]]['y'], \n",
    "    #head_width=2, head_length=3, fc='blue', ec='blue')\n",
    "    x1, y1=df.iloc[routes[i]]['x'], df.iloc[routes[i]]['y']\n",
    "    x2, y2=df.iloc[routes[i+1]]['x'], df.iloc[routes[i+1]]['y']\n",
    "    plt.plot([x1, x2], [y1, y2], c='blue')\n",
    "\n",
    "    mid_x=(x1+x2)/2\n",
    "    mid_y=(y1+y2)/2\n",
    "    dx=(x2-x1)*0.05  # Offset along x-direction\n",
    "    dy=(y2-y1)*0.05  # Offset along y-direction\n",
    "    \n",
    "    #plt.annotate('', xy=(mid_x + dx, mid_y + dy), xytext=(mid_x, mid_y), arrowprops=dict(arrowstyle='->', color='blue'))\n",
    "    plt.annotate('', xy=(mid_x + dx, mid_y + dy), xytext=(mid_x, mid_y),\n",
    "                 arrowprops=dict(arrowstyle='simple, tail_width=0.5, head_width=0.69, head_length=0.69', color='blue'))\n",
    "        \n",
    "plt.show()\n",
    "\n",
    "cost=0\n",
    "for i in range(len(routes)-1):\n",
    "    cost+=d[routes[i]][routes[i+1]]\n",
    "print(\"Total cost:\", cost)"
   ]
  },
  {
   "cell_type": "markdown",
   "metadata": {},
   "source": [
    "#### Text optimum solution for ATT48 (only)"
   ]
  },
  {
   "cell_type": "code",
   "execution_count": 117,
   "metadata": {},
   "outputs": [
    {
     "data": {
      "text/plain": [
       "'\\nfor i in range(len(opt_seq)-1):\\n    opt_cost+=d[opt_seq[i]][opt_seq[i+1]]\\nprint(\"OPTIMUM COST:\", opt_cost)\\n'"
      ]
     },
     "execution_count": 117,
     "metadata": {},
     "output_type": "execute_result"
    }
   ],
   "source": [
    "opt_seq=[0, 7, 37, 30, 43, 17, 6, 27, 5, 36, 18, 26, 16, 42, 29, 35, 45, 32, 19, 46, 20, 31, 38, 47, 4, 41, 23, 9, 44, 34, 3, 25, 1, 28, 33, 40, 15, 21, 2, 22, 13, 24, 12, 10, 11, 14, 39, 8, 0]  # from TSPLIB\n",
    "opt_cost=0\n",
    "for i in range(len(opt_seq)-1):\n",
    "    opt_cost+=d[opt_seq[i]][opt_seq[i+1]]\n",
    "print(\"OPTIMUM COST:\", opt_cost)\n",
    "#routes=opt_seq"
   ]
  },
  {
   "cell_type": "code",
   "execution_count": null,
   "metadata": {},
   "outputs": [],
   "source": []
  }
 ],
 "metadata": {
  "kernelspec": {
   "display_name": "Python 3 (ipykernel)",
   "language": "python",
   "name": "python3"
  },
  "language_info": {
   "codemirror_mode": {
    "name": "ipython",
    "version": 3
   },
   "file_extension": ".py",
   "mimetype": "text/x-python",
   "name": "python",
   "nbconvert_exporter": "python",
   "pygments_lexer": "ipython3",
   "version": "3.11.6"
  }
 },
 "nbformat": 4,
 "nbformat_minor": 2
}
